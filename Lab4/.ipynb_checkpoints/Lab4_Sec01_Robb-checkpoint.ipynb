{
 "cells": [
  {
   "cell_type": "markdown",
   "metadata": {},
   "source": [
    "# Lab 4: Linear Regression"
   ]
  },
  {
   "cell_type": "markdown",
   "metadata": {},
   "source": [
    "In this assignment, we will learn the Linear Regression model. \n",
    "\n",
    "First, please study the given example, which uses linear regression for the house price prediction task. In this example, you will learn how to preprocess data, how to train the model, and how to evaluate the model. \n",
    "\n",
    "Based on the given example and Lab Assignment 3, your task is to use the linear regression model to predict the medical cost for the dataset given in Lab Assignment 3. "
   ]
  },
  {
   "cell_type": "markdown",
   "metadata": {},
   "source": [
    "## 1. Example: Linear Regression for House Price Prediction"
   ]
  },
  {
   "cell_type": "markdown",
   "metadata": {},
   "source": [
    "In this example, we use the house price dataset. It gives the attributes and price of each house. The task is to build a linear regression model to make prediction for the price of the house."
   ]
  },
  {
   "cell_type": "markdown",
   "metadata": {},
   "source": [
    "### 1.1 Preprocess the raw data\n",
    "\n",
    "When given a new dataset, we need to deal with the missing values and categorical features. "
   ]
  },
  {
   "cell_type": "code",
   "execution_count": 10,
   "metadata": {},
   "outputs": [
    {
     "name": "stdout",
     "output_type": "stream",
     "text": [
      "longitude             0\n",
      "latitude              0\n",
      "housing_median_age    0\n",
      "total_rooms           0\n",
      "total_bedrooms        0\n",
      "population            0\n",
      "households            0\n",
      "median_income         0\n",
      "median_house_value    0\n",
      "ocean_proximity       0\n",
      "dtype: int64\n",
      "<class 'pandas.core.frame.DataFrame'>\n",
      "RangeIndex: 20640 entries, 0 to 20639\n",
      "Data columns (total 10 columns):\n",
      "longitude             20640 non-null float64\n",
      "latitude              20640 non-null float64\n",
      "housing_median_age    20640 non-null int64\n",
      "total_rooms           20640 non-null int64\n",
      "total_bedrooms        20640 non-null float64\n",
      "population            20640 non-null int64\n",
      "households            20640 non-null int64\n",
      "median_income         20640 non-null float64\n",
      "median_house_value    20640 non-null int64\n",
      "ocean_proximity       20640 non-null int64\n",
      "dtypes: float64(4), int64(6)\n",
      "memory usage: 1.6 MB\n",
      "None\n"
     ]
    }
   ],
   "source": [
    "import pandas as pd\n",
    "import numpy as np\n",
    "from sklearn.preprocessing import LabelEncoder\n",
    "from sklearn.model_selection import train_test_split\n",
    "from sklearn.preprocessing import StandardScaler\n",
    "from sklearn.linear_model import LinearRegression, Ridge, Lasso\n",
    "from sklearn.metrics import mean_absolute_error,mean_squared_error\n",
    "import matplotlib.pyplot as plt\n",
    "\n",
    "\n",
    "df = pd.read_csv('housing.csv')\n",
    "\n",
    "# 0. fill in missing values\n",
    "mean_val = df['total_bedrooms'].mean()\n",
    "df['total_bedrooms'] = df['total_bedrooms'].fillna(mean_val)\n",
    "print(df.isnull().sum())\n",
    "\n",
    "# 1. convert categorical features to numerical values\n",
    "labelencoder = LabelEncoder()\n",
    "df['ocean_proximity'] = labelencoder.fit_transform(df['ocean_proximity'])\n",
    "print(df.info())"
   ]
  },
  {
   "cell_type": "markdown",
   "metadata": {},
   "source": [
    "### 1.2 Split the preprocessed dataset into training set and testing set\n",
    "\n",
    "For the supervised learning, we need to split the dataset into the training set and test set. The training set is used to learn model parameters and the testing set is used to evaluate the learned model. \n",
    "\n",
    "Note that the testing set is NOT allowed to be used in the training phase. "
   ]
  },
  {
   "cell_type": "code",
   "execution_count": 11,
   "metadata": {},
   "outputs": [
    {
     "name": "stdout",
     "output_type": "stream",
     "text": [
      "(16512, 9)\n",
      "(4128, 9)\n"
     ]
    }
   ],
   "source": [
    "# 2. split samples\n",
    "house_fea = df.drop('median_house_value', axis=1).values\n",
    "house_price = df['median_house_value'].values\n",
    "house_price = house_price / np.max(house_price)\n",
    "\n",
    "X_train,X_test,y_train,y_test = train_test_split(house_fea,\n",
    "                                                 house_price,\n",
    "                                                 test_size=0.2,\n",
    "                                                 random_state=42)\n",
    "print(X_train.shape)\n",
    "print(X_test.shape)\n",
    "\n",
    "\n",
    "# normalize features\n",
    "normalizer = StandardScaler()\n",
    "X_train = normalizer.fit_transform(X_train)\n",
    "X_test = normalizer.transform(X_test)"
   ]
  },
  {
   "cell_type": "markdown",
   "metadata": {},
   "source": [
    "### 1.3 Train the linear regression model \n",
    "\n",
    "$\\min_{w}\\frac{1}{n}\\|y-X\\mathbf{w}\\|_2^2$\n",
    "\n",
    "\n",
    "\n",
    "Here, we use the training set to learn the model parameter $\\mathbf{w}=(w_0, w_1, w_2, \\cdots, w_d)$. \n",
    "\n",
    "Then, we compute MAE, MSE, and RMSE to see how well the learned model fit the training set. "
   ]
  },
  {
   "cell_type": "code",
   "execution_count": 12,
   "metadata": {},
   "outputs": [
    {
     "name": "stdout",
     "output_type": "stream",
     "text": [
      "bias is 0.41438855869860675\n",
      "coefficients  is [-0.17170955 -0.18189176  0.02984855 -0.0353864   0.09753502 -0.08776816\n",
      "  0.03520256  0.15428789 -0.00090304]\n",
      "prediction for training set:\n",
      "MAE is: 0.10125365457873205\n",
      "MSE is: 0.0192437559440504\n",
      "RMSE is: 0.13872186541439818\n"
     ]
    }
   ],
   "source": [
    "#3. train the model\n",
    "lr = LinearRegression()\n",
    "\n",
    "lr.fit(X_train,y_train)\n",
    "\n",
    "print(\"bias is \"+str(lr.intercept_))\n",
    "print(\"coefficients  is \"+str(lr.coef_))\n",
    "\n",
    "y_train_pred = lr.predict(X_train)\n",
    "\n",
    "mae = mean_absolute_error(y_train_pred,y_train)\n",
    "mse = mean_squared_error(y_train_pred,y_train)\n",
    "rmse = np.sqrt(mse)\n",
    "\n",
    "print('prediction for training set:')\n",
    "print('MAE is: {}'.format(mae))\n",
    "print('MSE is: {}'.format(mse))\n",
    "print('RMSE is: {}'.format(rmse))\n"
   ]
  },
  {
   "cell_type": "markdown",
   "metadata": {},
   "source": [
    "### 1.4 Evaluate the linear regression model\n",
    "\n",
    "After obtaining the model parameter $\\mathbf{w}=(w_0, w_1, w_2, \\cdots, w_d)$, the linear regression model is determined. Then, we need to evaluate this model to see how well this model generaizes on the testing set. "
   ]
  },
  {
   "cell_type": "code",
   "execution_count": 13,
   "metadata": {},
   "outputs": [
    {
     "name": "stdout",
     "output_type": "stream",
     "text": [
      "prediction for testing set:\n",
      "MAE is: 0.1036935483109797\n",
      "MSE is: 0.02022001958450324\n",
      "RMSE is: 0.14219711524677017\n"
     ]
    },
    {
     "data": {
      "image/png": "[encoded data removed]",
      "text/plain": [
       "<Figure size 432x288 with 1 Axes>"
      ]
     },
     "metadata": {
      "needs_background": "light"
     },
     "output_type": "display_data"
    }
   ],
   "source": [
    "#4. evaluate the model\n",
    "y_test_pred = lr.predict(X_test)\n",
    "\n",
    "mae = mean_absolute_error(y_test_pred,y_test)\n",
    "mse = mean_squared_error(y_test_pred,y_test)\n",
    "rmse = np.sqrt(mse)\n",
    "\n",
    "print('prediction for testing set:')\n",
    "print('MAE is: {}'.format(mae))\n",
    "print('MSE is: {}'.format(mse))\n",
    "print('RMSE is: {}'.format(rmse))\n",
    "\n",
    "\n",
    "labels = ['House1', 'House2', 'House3', 'House4', 'House5']\n",
    "x = np.arange(len(labels))  # the label locations\n",
    "width = 0.35  # the width of the bars\n",
    "\n",
    "fig, ax = plt.subplots()\n",
    "rects1 = ax.bar(x - width/2, y_test[0:5], width, label='ground truth')\n",
    "rects2 = ax.bar(x + width/2, y_test_pred[0:5], width, label='prediction')\n",
    "\n",
    "ax.set_ylabel('Price')\n",
    "ax.set_xticks(x)\n",
    "ax.set_xticklabels(labels)\n",
    "ax.legend()\n",
    "\n",
    "plt.show()\n"
   ]
  },
  {
   "cell_type": "markdown",
   "metadata": {},
   "source": [
    "## 2. Task: Linear Regression for Medical Cost Prediction\n",
    "\n",
    "Following the given example, build a linear regression model for [the insurance dataset](./insurance.csv) to predict the medical cost.  \n"
   ]
  },
  {
   "cell_type": "markdown",
   "metadata": {},
   "source": [
    "### 2.1 Preprocess the raw data\n",
    "\n",
    "Based on your Lab Assignment 3, deal with the missing values and categorical features. "
   ]
  },
  {
   "cell_type": "code",
   "execution_count": 20,
   "metadata": {},
   "outputs": [
    {
     "name": "stdout",
     "output_type": "stream",
     "text": [
      "      age     sex     bmi  children smoker     region      charges\n",
      "0      19  female  27.900         0    yes  southwest  16884.92400\n",
      "1      18    male  33.770         1     no  southeast   1725.55230\n",
      "2      28    male  33.000         3     no  southeast   4449.46200\n",
      "3      33    male  22.705         0     no  northwest  21984.47061\n",
      "4      32    male  28.880         0     no  northwest   3866.85520\n",
      "...   ...     ...     ...       ...    ...        ...          ...\n",
      "1333   50    male  30.970         3     no  northwest  10600.54830\n",
      "1334   18  female  31.920         0     no  northeast   2205.98080\n",
      "1335   18  female  36.850         0     no  southeast   1629.83350\n",
      "1336   21  female  25.800         0     no  southwest   2007.94500\n",
      "1337   61  female  29.070         0    yes  northwest  29141.36030\n",
      "\n",
      "[1338 rows x 7 columns] \n",
      "\n",
      "age         0\n",
      "sex         0\n",
      "bmi         0\n",
      "children    0\n",
      "smoker      0\n",
      "region      0\n",
      "charges     0\n",
      "dtype: int64 \n",
      "\n",
      "<class 'pandas.core.frame.DataFrame'>\n",
      "RangeIndex: 1338 entries, 0 to 1337\n",
      "Data columns (total 7 columns):\n",
      " #   Column    Non-Null Count  Dtype  \n",
      "---  ------    --------------  -----  \n",
      " 0   age       1338 non-null   int64  \n",
      " 1   sex       1338 non-null   object \n",
      " 2   bmi       1338 non-null   float64\n",
      " 3   children  1338 non-null   int64  \n",
      " 4   smoker    1338 non-null   object \n",
      " 5   region    1338 non-null   object \n",
      " 6   charges   1338 non-null   float64\n",
      "dtypes: float64(2), int64(2), object(3)\n",
      "memory usage: 73.3+ KB\n",
      "None \n",
      "\n",
      "<class 'pandas.core.frame.DataFrame'>\n",
      "RangeIndex: 1338 entries, 0 to 1337\n",
      "Data columns (total 7 columns):\n",
      " #   Column    Non-Null Count  Dtype  \n",
      "---  ------    --------------  -----  \n",
      " 0   age       1338 non-null   int64  \n",
      " 1   sex       1338 non-null   int64  \n",
      " 2   bmi       1338 non-null   float64\n",
      " 3   children  1338 non-null   int64  \n",
      " 4   smoker    1338 non-null   int64  \n",
      " 5   region    1338 non-null   int64  \n",
      " 6   charges   1338 non-null   float64\n",
      "dtypes: float64(2), int64(5)\n",
      "memory usage: 73.3 KB\n",
      "None \n",
      "\n"
     ]
    }
   ],
   "source": [
    "#include libraries\n",
    "import pandas as pd\n",
    "import numpy as np\n",
    "from sklearn.preprocessing import LabelEncoder\n",
    "from sklearn.model_selection import train_test_split\n",
    "from sklearn.preprocessing import StandardScaler\n",
    "from sklearn.linear_model import LinearRegression, Ridge, Lasso\n",
    "from sklearn.metrics import mean_absolute_error,mean_squared_error\n",
    "import matplotlib.pyplot as plt\n",
    "\n",
    "#import the data frame\n",
    "df = pd.read_csv('insurance.csv')\n",
    "print(df, \"\\n\")\n",
    "\n",
    "#check missing values\n",
    "print(df.isnull().sum(), \"\\n\")\n",
    "\n",
    "#convert catgorical values into numerical \n",
    "print(df.info(), \"\\n\")\n",
    "labelencoder = LabelEncoder()\n",
    "df['sex'] = labelencoder.fit_transform(df['sex'])\n",
    "df['smoker'] = labelencoder.fit_transform(df['smoker'])\n",
    "df['region'] = labelencoder.fit_transform(df['region'])\n",
    "\n",
    "print(df.info(), \"\\n\")"
   ]
  },
  {
   "cell_type": "markdown",
   "metadata": {},
   "source": [
    "### 1.2 Split the preprocessed dataset into training set and testing set\n",
    "\n",
    "Use 80% of samples as the training set and 20% of samples as the testing set"
   ]
  },
  {
   "cell_type": "code",
   "execution_count": 24,
   "metadata": {},
   "outputs": [
    {
     "name": "stdout",
     "output_type": "stream",
     "text": [
      "(1070, 6)\n",
      "(268, 6)\n"
     ]
    }
   ],
   "source": [
    "# split samples\n",
    "insurance_fea = df.drop('charges', axis=1).values\n",
    "insurance_price = df['charges'].values\n",
    "insurance_price = insurance_price / np.max(insurance_price)\n",
    "\n",
    "X_train,X_test,y_train,y_test = train_test_split(insurance_fea,\n",
    "                                                 insurance_price,\n",
    "                                                 test_size=0.2,\n",
    "                                                 random_state=42)\n",
    "print(X_train.shape)\n",
    "print(X_test.shape)\n",
    "\n",
    "\n",
    "# normalize features\n",
    "normalizer = StandardScaler()\n",
    "X_train = normalizer.fit_transform(X_train)\n",
    "X_test = normalizer.transform(X_test)"
   ]
  },
  {
   "cell_type": "markdown",
   "metadata": {},
   "source": [
    "### 1.3 Train the linear regression model \n",
    "\n",
    "Use the Linear regression model to do prediction\n",
    "\n",
    "$\\min_{w}\\frac{1}{n}\\|y-X\\mathbf{w}\\|_2^2$\n",
    "\n",
    "Please output the learned model parameter $\\mathbf{w}$ and see how the learned model fit the training set. "
   ]
  },
  {
   "cell_type": "code",
   "execution_count": 25,
   "metadata": {},
   "outputs": [
    {
     "name": "stdout",
     "output_type": "stream",
     "text": [
      "bias is 0.20928336460705027\n",
      "coefficients  is [ 5.67051024e-02 -1.47293258e-04  3.18064131e-02  8.10191467e-03\n",
      "  1.49867951e-01 -4.74182139e-03]\n",
      "prediction for training set:\n",
      "MAE is: 0.06599864797091512\n",
      "MSE is: 0.00916737434945697\n",
      "RMSE is: 0.09574640645714579\n"
     ]
    }
   ],
   "source": [
    "lr = LinearRegression()\n",
    "\n",
    "lr.fit(X_train,y_train)\n",
    "\n",
    "print(\"bias is \"+str(lr.intercept_))\n",
    "print(\"coefficients  is \"+str(lr.coef_))\n",
    "\n",
    "y_train_pred = lr.predict(X_train)\n",
    "\n",
    "mae = mean_absolute_error(y_train_pred,y_train)\n",
    "mse = mean_squared_error(y_train_pred,y_train)\n",
    "rmse = np.sqrt(mse)\n",
    "\n",
    "print('prediction for training set:')\n",
    "print('MAE is: {}'.format(mae))\n",
    "print('MSE is: {}'.format(mse))\n",
    "print('RMSE is: {}'.format(rmse))"
   ]
  },
  {
   "cell_type": "markdown",
   "metadata": {},
   "source": [
    "### 1.4 Evaluate the linear regression model\n",
    "\n",
    "\n",
    "Evaluate the learned model to see how well this model generaizes on the testing set. "
   ]
  },
  {
   "cell_type": "code",
   "execution_count": 27,
   "metadata": {
    "scrolled": false
   },
   "outputs": [
    {
     "name": "stdout",
     "output_type": "stream",
     "text": [
      "prediction for testing set:\n",
      "MAE is: 0.06564969107169771\n",
      "MSE is: 0.008270951713078178\n",
      "RMSE is: 0.09094477287386109\n"
     ]
    },
    {
     "data": {
      "image/png": "[encoded data removed]",
      "text/plain": [
       "<Figure size 432x288 with 1 Axes>"
      ]
     },
     "metadata": {
      "needs_background": "light"
     },
     "output_type": "display_data"
    }
   ],
   "source": [
    "#evaluate the model\n",
    "y_test_pred = lr.predict(X_test)\n",
    "\n",
    "mae = mean_absolute_error(y_test_pred,y_test)\n",
    "mse = mean_squared_error(y_test_pred,y_test)\n",
    "rmse = np.sqrt(mse)\n",
    "\n",
    "print('prediction for testing set:')\n",
    "print('MAE is: {}'.format(mae))\n",
    "print('MSE is: {}'.format(mse))\n",
    "print('RMSE is: {}'.format(rmse))\n",
    "\n",
    "\n",
    "labels = ['Person1', 'Person2', 'Person3', 'Person4', 'Person5']\n",
    "x = np.arange(len(labels))  # the label locations\n",
    "width = 0.35  # the width of the bars\n",
    "\n",
    "fig, ax = plt.subplots()\n",
    "rects1 = ax.bar(x - width/2, y_test[0:5], width, label='ground truth')\n",
    "rects2 = ax.bar(x + width/2, y_test_pred[0:5], width, label='prediction')\n",
    "\n",
    "ax.set_ylabel('Price')\n",
    "ax.set_xticks(x)\n",
    "ax.set_xticklabels(labels)\n",
    "ax.legend()\n",
    "\n",
    "plt.show() "
   ]
  },
  {
   "cell_type": "markdown",
   "metadata": {},
   "source": [
    "### 1.5 Use the ridge regression model to do prediction\n",
    "\n",
    "$\\min_{w}\\frac{1}{n}\\|y-Xw\\|_2^2 + \\lambda \\|w\\|_2^2$\n",
    "\n",
    "* 1.5.1 Compare its performance on the testing set with that of the standard linear regression model $\\min_{w}\\frac{1}{n}\\|y-Xw\\|_2^2$\n",
    "\n",
    "* 1.5.2 Use different $\\lambda$ to see how it affects the performance of the ridge regression  model on the testing set\n"
   ]
  },
  {
   "cell_type": "code",
   "execution_count": 50,
   "metadata": {
    "scrolled": true
   },
   "outputs": [
    {
     "name": "stdout",
     "output_type": "stream",
     "text": [
      "1.5.1\n",
      "\n",
      "bias is 0.20928336460705027\n",
      "coefficients is [ 5.66477072e-02 -1.36912304e-04  3.17814658e-02  8.09963575e-03\n",
      "  1.49724329e-01 -4.73350751e-03]\n",
      "prediction for testing set\n",
      "MAE is: 0.06567262940074653\n",
      "MSE is: 0.0082725766695483\n",
      "RMSE is 0.09095370618918341\n"
     ]
    },
    {
     "data": {
      "image/png": "[encoded data removed]",
      "text/plain": [
       "<Figure size 432x288 with 1 Axes>"
      ]
     },
     "metadata": {
      "needs_background": "light"
     },
     "output_type": "display_data"
    },
    {
     "name": "stdout",
     "output_type": "stream",
     "text": [
      "comparing the preformance of the ridege regression model (1.5.1) and the linear training model (1.4):\n",
      "the numerical values of the errors are extremly close\n"
     ]
    }
   ],
   "source": [
    "print('1.5.1\\n')\n",
    "\n",
    "rr = Ridge(alpha = 1)\n",
    "rr.fit(X_train,y_train)\n",
    "\n",
    "print(\"bias is \" +str(rr.intercept_))\n",
    "print(\"coefficients is \" +str(rr.coef_))\n",
    "\n",
    "y_test_pred = rr.predict(X_test)\n",
    " \n",
    "mae = mean_absolute_error(y_test_pred,y_test)\n",
    "mse = mean_squared_error(y_test_pred,y_test)\n",
    "rmse = np.sqrt(mse)\n",
    "\n",
    "print('prediction for testing set')\n",
    "print('MAE is: {}'.format(mae))\n",
    "print('MSE is: {}'.format(mse))\n",
    "print('RMSE is {}'.format(rmse))\n",
    "\n",
    "\n",
    "labels = ['Person1', 'Person2', 'Person3', 'Person4', 'Person5']\n",
    "x = np.arange(len(labels))  # the label locations\n",
    "width = 0.35  # the width of the bars\n",
    "\n",
    "fig, ax = plt.subplots()\n",
    "rects1 = ax.bar(x - width/2, y_test[0:5], width, label='ground truth')\n",
    "rects2 = ax.bar(x + width/2, y_test_pred[0:5], width, label='prediction')\n",
    "\n",
    "ax.set_ylabel('Price')\n",
    "ax.set_xticks(x)\n",
    "ax.set_xticklabels(labels)\n",
    "ax.legend()\n",
    "\n",
    "plt.show() \n",
    "\n",
    "print('comparing the preformance of the ridege regression model (1.5.1) and the linear training model (1.4):')\n",
    "print('the numerical values of the errors are extremly close')"
   ]
  },
  {
   "cell_type": "code",
   "execution_count": 66,
   "metadata": {},
   "outputs": [
    {
     "name": "stdout",
     "output_type": "stream",
     "text": [
      "1.5.2\n",
      "\n",
      "𝜆 = 0.1\n",
      "bias is 0.20928336460705027\n",
      "coefficients are [ 5.66993576e-02 -1.46253412e-04  3.18039167e-02  8.10168706e-03\n",
      "  1.49853576e-01 -4.74098902e-03]\n",
      "prediction for testing set\n",
      "MAE is: 0.06565198712488936\n",
      "MSE is: 0.008271112026766067\n",
      "RMSE is 0.09094565424893081\n",
      "\n",
      "\n",
      "𝜆 = 1.0\n",
      "bias is 0.20928336460705027\n",
      "coefficients are [ 5.66477072e-02 -1.36912304e-04  3.17814658e-02  8.09963575e-03\n",
      "  1.49724329e-01 -4.73350751e-03]\n",
      "prediction for testing set\n",
      "MAE is: 0.06567262940074653\n",
      "MSE is: 0.0082725766695483\n",
      "RMSE is 0.09095370618918341\n",
      "\n",
      "\n",
      "𝜆 = 20.0\n",
      "bias is 0.20928336460705027\n",
      "coefficients are [ 5.55791066e-02  5.31387207e-05  3.13145546e-02  8.05522453e-03\n",
      "  1.47047190e-01 -4.57960785e-03]\n",
      "prediction for testing set\n",
      "MAE is: 0.06613364774215816\n",
      "MSE is: 0.00831230764817267\n",
      "RMSE is 0.09117185776418439\n",
      "\n",
      "\n",
      "𝜆 = 200\n",
      "bias is 0.20928336460705027\n",
      "coefficients are [ 0.04716695  0.00132911  0.02747503  0.00757177  0.12576511 -0.00343135]\n",
      "prediction for testing set\n",
      "MAE is: 0.07174363643409837\n",
      "MSE is: 0.00926530148826035\n",
      "RMSE is 0.0962564360874656\n",
      "\n",
      "\n",
      "𝜆 = 1000\n",
      "bias is 0.2092833646070503\n",
      "coefficients are [ 0.02826016  0.00264647  0.01773202  0.00557093  0.07661135 -0.00134672]\n",
      "prediction for testing set\n",
      "MAE is: 0.09391805281994185\n",
      "MSE is: 0.015797099360113406\n",
      "RMSE is 0.12568651224420785\n",
      "\n",
      "\n",
      "\n",
      "Observation:\n",
      "Using different values for lambda, the performance of the ridge regression model on the testing set shows that\n",
      "the larger the lambda the greater the error. As lambda decreases, the mean squared error decreases.\n"
     ]
    }
   ],
   "source": [
    "print('1.5.2\\n')\n",
    "\n",
    "\n",
    "print('𝜆 = 0.1')\n",
    "rr = Ridge(alpha = 0.1)\n",
    "rr.fit(X_train,y_train)\n",
    "\n",
    "print(\"bias is \" +str(rr.intercept_))\n",
    "print(\"coefficients are \" +str(rr.coef_))\n",
    "\n",
    "y_test_pred = rr.predict(X_test)\n",
    " \n",
    "mae = mean_absolute_error(y_test_pred,y_test)\n",
    "mse = mean_squared_error(y_test_pred,y_test)\n",
    "rmse = np.sqrt(mse)\n",
    "\n",
    "print('prediction for testing set')\n",
    "print('MAE is: {}'.format(mae))\n",
    "print('MSE is: {}'.format(mse))\n",
    "print('RMSE is {}'.format(rmse))\n",
    "\n",
    "\n",
    "print('\\n\\n𝜆 = 1.0')\n",
    "rr = Ridge(alpha = 1.0)\n",
    "rr.fit(X_train,y_train)\n",
    "\n",
    "print(\"bias is \" +str(rr.intercept_))\n",
    "print(\"coefficients are \" +str(rr.coef_))\n",
    "\n",
    "y_test_pred = rr.predict(X_test)\n",
    " \n",
    "mae = mean_absolute_error(y_test_pred,y_test)\n",
    "mse = mean_squared_error(y_test_pred,y_test)\n",
    "rmse = np.sqrt(mse)\n",
    "\n",
    "print('prediction for testing set')\n",
    "print('MAE is: {}'.format(mae))\n",
    "print('MSE is: {}'.format(mse))\n",
    "print('RMSE is {}'.format(rmse))\n",
    "\n",
    "\n",
    "print('\\n\\n𝜆 = 20.0')\n",
    "rr = Ridge(alpha = 20)\n",
    "rr.fit(X_train,y_train)\n",
    "\n",
    "print(\"bias is \" +str(rr.intercept_))\n",
    "print(\"coefficients are \" +str(rr.coef_))\n",
    "\n",
    "y_test_pred = rr.predict(X_test)\n",
    " \n",
    "mae = mean_absolute_error(y_test_pred,y_test)\n",
    "mse = mean_squared_error(y_test_pred,y_test)\n",
    "rmse = np.sqrt(mse)\n",
    "\n",
    "print('prediction for testing set')\n",
    "print('MAE is: {}'.format(mae))\n",
    "print('MSE is: {}'.format(mse))\n",
    "print('RMSE is {}'.format(rmse))\n",
    "\n",
    "\n",
    "\n",
    "print('\\n\\n𝜆 = 200')\n",
    "rr = Ridge(alpha = 200)\n",
    "rr.fit(X_train,y_train)\n",
    "\n",
    "print(\"bias is \" +str(rr.intercept_))\n",
    "print(\"coefficients are \" +str(rr.coef_))\n",
    "\n",
    "y_test_pred = rr.predict(X_test)\n",
    " \n",
    "mae = mean_absolute_error(y_test_pred,y_test)\n",
    "mse = mean_squared_error(y_test_pred,y_test)\n",
    "rmse = np.sqrt(mse)\n",
    "\n",
    "print('prediction for testing set')\n",
    "print('MAE is: {}'.format(mae))\n",
    "print('MSE is: {}'.format(mse))\n",
    "print('RMSE is {}'.format(rmse))\n",
    "\n",
    "\n",
    "print('\\n\\n𝜆 = 1000')\n",
    "rr = Ridge(alpha = 1000)\n",
    "rr.fit(X_train,y_train)\n",
    "\n",
    "print(\"bias is \" +str(rr.intercept_))\n",
    "print(\"coefficients are \" +str(rr.coef_))\n",
    "\n",
    "y_test_pred = rr.predict(X_test)\n",
    " \n",
    "mae = mean_absolute_error(y_test_pred,y_test)\n",
    "mse = mean_squared_error(y_test_pred,y_test)\n",
    "rmse = np.sqrt(mse)\n",
    "\n",
    "print('prediction for testing set')\n",
    "print('MAE is: {}'.format(mae))\n",
    "print('MSE is: {}'.format(mse))\n",
    "print('RMSE is {}'.format(rmse))\n",
    "\n",
    "\n",
    "print('\\n\\n\\nObservation:\\n' + \n",
    "      'Using different values for lambda, '+ \n",
    "      'the performance of the ridge regression model on the testing set shows that\\n' +\n",
    "      'the larger the lambda the greater the error. ' + \n",
    "      'As lambda decreases, the mean squared error decreases.')"
   ]
  },
  {
   "cell_type": "code",
   "execution_count": null,
   "metadata": {},
   "outputs": [],
   "source": []
  },
  {
   "cell_type": "code",
   "execution_count": null,
   "metadata": {},
   "outputs": [],
   "source": []
  }
 ],
 "metadata": {
  "kernelspec": {
   "display_name": "Python 3",
   "language": "python",
   "name": "python3"
  },
  "language_info": {
   "codemirror_mode": {
    "name": "ipython",
    "version": 3
   },
   "file_extension": ".py",
   "mimetype": "text/x-python",
   "name": "python",
   "nbconvert_exporter": "python",
   "pygments_lexer": "ipython3",
   "version": "3.8.5"
  }
 },
 "nbformat": 4,
 "nbformat_minor": 2
}
