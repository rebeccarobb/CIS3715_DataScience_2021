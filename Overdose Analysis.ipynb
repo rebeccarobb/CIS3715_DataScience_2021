{
 "cells": [
  {
   "cell_type": "markdown",
   "metadata": {},
   "source": [
    "# Final Project: Pennsylvania Overdose Data Analysis\n",
    "## Rebecca Robb\n",
    "This project is done with the file: \n",
    "Overdose_Information_Network_Data_CY_January_2018_-_Current_Monthly_County_State_Police.csv\n",
    "which was last updated in March of 2021. "
   ]
  },
  {
   "cell_type": "markdown",
   "metadata": {},
   "source": [
    "### Importing the data frame and removed unnneccessary features."
   ]
  },
  {
   "cell_type": "code",
   "execution_count": 71,
   "metadata": {},
   "outputs": [
    {
     "name": "stdout",
     "output_type": "stream",
     "text": [
      "<class 'pandas.core.frame.DataFrame'>\n",
      "RangeIndex: 25173 entries, 0 to 25172\n",
      "Data columns (total 34 columns):\n",
      " #   Column                                  Non-Null Count  Dtype  \n",
      "---  ------                                  --------------  -----  \n",
      " 0   Incident ID                             25173 non-null  int64  \n",
      " 1   Incident Date                           25173 non-null  object \n",
      " 2   Incident Time                           25173 non-null  object \n",
      " 3   Day                                     25173 non-null  object \n",
      " 4   Incident County Name                    25173 non-null  object \n",
      " 5   Incident State                          25173 non-null  object \n",
      " 6   Victim ID                               25173 non-null  int64  \n",
      " 7   Gender Desc                             25173 non-null  object \n",
      " 8   Age Range                               25173 non-null  object \n",
      " 9   Race                                    25173 non-null  object \n",
      " 10  Ethnicity Desc                          25173 non-null  object \n",
      " 11  Victim State                            22907 non-null  object \n",
      " 12  Victim County                           22907 non-null  object \n",
      " 13  Accidental Exposure                     25173 non-null  object \n",
      " 14  Victim OD Drug ID                       25173 non-null  int64  \n",
      " 15  Susp OD Drug Desc                       25173 non-null  object \n",
      " 16  Naloxone Administered                   25173 non-null  object \n",
      " 17  Administration ID                       25173 non-null  int64  \n",
      " 18  Dose Count                              25173 non-null  int64  \n",
      " 19  Dose Unit                               25173 non-null  int64  \n",
      " 20  Dose Desc                               16558 non-null  object \n",
      " 21  Response Time Desc                      15946 non-null  object \n",
      " 22  Survive                                 25173 non-null  object \n",
      " 23  Response Desc                           17349 non-null  object \n",
      " 24  Revive Action Desc                      15946 non-null  object \n",
      " 25  Third Party Admin Desc                  6583 non-null   object \n",
      " 26  Incident County FIPS Code               25173 non-null  int64  \n",
      " 27  Incident County Latitude                25173 non-null  float64\n",
      " 28  Incident County Longitude               25173 non-null  float64\n",
      " 29  Victim County FIPS Code                 22907 non-null  float64\n",
      " 30  Victim County Latitude                  25173 non-null  float64\n",
      " 31  Victim County Longitude                 25173 non-null  float64\n",
      " 32  Incident County Latitude and Longitude  25173 non-null  object \n",
      " 33  Victim County Latitude and Longitude    25173 non-null  object \n",
      "dtypes: float64(5), int64(7), object(22)\n",
      "memory usage: 6.5+ MB\n",
      "None\n",
      "<class 'pandas.core.frame.DataFrame'>\n",
      "RangeIndex: 25173 entries, 0 to 25172\n",
      "Data columns (total 11 columns):\n",
      " #   Column                     Non-Null Count  Dtype  \n",
      "---  ------                     --------------  -----  \n",
      " 0   Day                        25173 non-null  object \n",
      " 1   Gender Desc                25173 non-null  object \n",
      " 2   Age Range                  25173 non-null  object \n",
      " 3   Race                       25173 non-null  object \n",
      " 4   Ethnicity Desc             25173 non-null  object \n",
      " 5   Accidental Exposure        25173 non-null  object \n",
      " 6   Susp OD Drug Desc          25173 non-null  object \n",
      " 7   Naloxone Administered      25173 non-null  object \n",
      " 8   Survive                    25173 non-null  object \n",
      " 9   Incident County Latitude   25173 non-null  float64\n",
      " 10  Incident County Longitude  25173 non-null  float64\n",
      "dtypes: float64(2), object(9)\n",
      "memory usage: 2.1+ MB\n",
      "None\n"
     ]
    }
   ],
   "source": [
    "#libraries\n",
    "import pandas as pd\n",
    "import numpy as np\n",
    "import matplotlib.pyplot as plt\n",
    "import geopandas as gpd\n",
    "import descartes\n",
    "from shapely.geometry import Point, Polygon\n",
    "%matplotlib inline\n",
    "from sklearn.preprocessing import LabelEncoder\n",
    "from sklearn.model_selection import train_test_split\n",
    "from sklearn import datasets\n",
    "from sklearn.preprocessing import StandardScaler\n",
    "from sklearn.linear_model import LogisticRegression\n",
    "from sklearn.metrics import accuracy_score\n",
    "from sklearn.metrics import f1_score\n",
    "from sklearn.metrics import recall_score\n",
    "from sklearn.metrics import precision_score\n",
    "from random import shuffle\n",
    "import random\n",
    "random.seed(123)\n",
    "\n",
    "#import data frame\n",
    "df = pd.read_csv('Overdose_Information_Network_Data_CY_January_2018_-_Current_Monthly_County_State_Police.csv')\n",
    "\n",
    "print(df.info())\n",
    "\n",
    "#remove unneccessary data\n",
    "df = df.drop(['Incident Date','Incident Time', 'Incident County Name','Response Time Desc', 'Revive Action Desc', 'Response Desc', 'Victim County', \n",
    "               'Victim OD Drug ID', 'Third Party Admin Desc', 'Administration ID', 'Dose Count', 'Dose Unit', \n",
    "               'Dose Desc', 'Incident ID', 'Victim State', 'Incident State', 'Victim County Latitude and Longitude',\n",
    "               'Incident County Latitude and Longitude', 'Victim ID', 'Victim County FIPS Code', \n",
    "               'Incident County FIPS Code', 'Victim County Latitude', 'Victim County Longitude'], axis=1)\n",
    "\n",
    "print(df.info())"
   ]
  },
  {
   "cell_type": "markdown",
   "metadata": {},
   "source": [
    "### Check for missing values"
   ]
  },
  {
   "cell_type": "code",
   "execution_count": 3,
   "metadata": {},
   "outputs": [
    {
     "name": "stdout",
     "output_type": "stream",
     "text": [
      "Day                          0\n",
      "Gender Desc                  0\n",
      "Age Range                    0\n",
      "Race                         0\n",
      "Ethnicity Desc               0\n",
      "Accidental Exposure          0\n",
      "Susp OD Drug Desc            0\n",
      "Naloxone Administered        0\n",
      "Survive                      0\n",
      "Incident County Latitude     0\n",
      "Incident County Longitude    0\n",
      "dtype: int64\n",
      "\n",
      " Result: There are missing values for Victim State, Victim County, Dose Desc, Response Time Desc, Response Desc, Revive Action Desc, Third Party Admin Desc, and Victim County FIPS Code \n",
      "\n"
     ]
    }
   ],
   "source": [
    "#check missing values\n",
    "print(df.isnull().sum()) \n",
    "print(\"\\n Result: There are missing values for Victim State, Victim County, \" +\n",
    "      \"Dose Desc, Response Time Desc, Response Desc, Revive Action Desc, Third Party Admin Desc, and Victim County FIPS Code \\n\")\n"
   ]
  },
  {
   "cell_type": "markdown",
   "metadata": {},
   "source": [
    "### Check to see if data is balanced and plot to visualize on Bar and Pie Chart"
   ]
  },
  {
   "cell_type": "code",
   "execution_count": 48,
   "metadata": {},
   "outputs": [
    {
     "data": {
      "image/png": "[encoded data removed]",
      "text/plain": [
       "<Figure size 72x216 with 1 Axes>"
      ]
     },
     "metadata": {
      "needs_background": "light"
     },
     "output_type": "display_data"
    },
    {
     "name": "stdout",
     "output_type": "stream",
     "text": [
      " Survived (Y) and Died (N) and Unknown (U))\n"
     ]
    },
    {
     "data": {
      "image/png": "[encoded data removed]",
      "text/plain": [
       "<Figure size 432x288 with 1 Axes>"
      ]
     },
     "metadata": {},
     "output_type": "display_data"
    },
    {
     "name": "stdout",
     "output_type": "stream",
     "text": [
      "\n",
      " Result: survival data is not balanced\n",
      "\n"
     ]
    }
   ],
   "source": [
    "#check to see if df is balanced\n",
    "df['Survive'].value_counts().plot(kind = 'bar', figsize = (1, 3))\n",
    "plt.title('Overdose Survival:')\n",
    "plt.show\n",
    "plt.show(block=False)\n",
    "print(' Survived (Y) and Died (N) and Unknown (U))')\n",
    "\n",
    "survive = df.groupby(['Survive']).groups.keys()\n",
    "survive_counts = df['Survive'].value_counts(sort=False)\n",
    "df_survive = pd.DataFrame(survive_counts, survive)\n",
    "total_survive = df_survive['Survive'].sum()\n",
    "survival_rates = df_survive['Survive']\n",
    "\n",
    "fig1, ax1 = plt.subplots()\n",
    "ax1.pie([(x / total_survive) * 100 for x in survival_rates],\n",
    "        labels=survive,\n",
    "        explode=[0, 0.1, 0],\n",
    "        autopct='%1.1f%%',\n",
    "        colors = ['red', 'yellow', 'lime'],\n",
    "        shadow=True)\n",
    "ax1.axis('equal')\n",
    "\n",
    "plt.show()\n",
    "print(\"\\n Result: survival data is not balanced\\n\")"
   ]
  },
  {
   "cell_type": "markdown",
   "metadata": {},
   "source": [
    "### Visualzing Gender Feature"
   ]
  },
  {
   "cell_type": "code",
   "execution_count": 49,
   "metadata": {
    "scrolled": true
   },
   "outputs": [
    {
     "data": {
      "image/png": "[encoded data removed]",
      "text/plain": [
       "<Figure size 432x288 with 1 Axes>"
      ]
     },
     "metadata": {
      "needs_background": "light"
     },
     "output_type": "display_data"
    }
   ],
   "source": [
    "df['Gender Desc'].value_counts().plot(kind = 'bar', figsize = (6, 4))\n",
    "plt.title('sex')\n",
    "plt.show\n",
    "plt.show(block=False)"
   ]
  },
  {
   "cell_type": "markdown",
   "metadata": {},
   "source": [
    "### Removing Unknown Variable in Survive and Visualizing"
   ]
  },
  {
   "cell_type": "code",
   "execution_count": 72,
   "metadata": {},
   "outputs": [
    {
     "data": {
      "image/png": "[encoded data removed]",
      "text/plain": [
       "<Figure size 72x216 with 1 Axes>"
      ]
     },
     "metadata": {
      "needs_background": "light"
     },
     "output_type": "display_data"
    },
    {
     "name": "stdout",
     "output_type": "stream",
     "text": [
      " Survived (Y) and Died (N)\n"
     ]
    }
   ],
   "source": [
    "df['Survive'] = df['Survive'].replace(to_replace=r'U', value='Y')\n",
    "\n",
    "df['Survive'].value_counts().plot(kind = 'bar', figsize = (1, 3))\n",
    "plt.title('Overdose Survival:')\n",
    "plt.show\n",
    "plt.show(block=False)\n",
    "print(' Survived (Y) and Died (N)')"
   ]
  },
  {
   "cell_type": "code",
   "execution_count": 73,
   "metadata": {},
   "outputs": [
    {
     "data": {
      "image/png": "[encoded data removed]",
      "text/plain": [
       "<Figure size 72x216 with 1 Axes>"
      ]
     },
     "metadata": {
      "needs_background": "light"
     },
     "output_type": "display_data"
    },
    {
     "name": "stdout",
     "output_type": "stream",
     "text": [
      " Survived (1) and Died (0)\n"
     ]
    }
   ],
   "source": [
    "df['Survive'] = df['Survive'].replace(to_replace=r'Y', value=1)\n",
    "df['Survive'] = df['Survive'].replace(to_replace=r'N', value=0)\n",
    "df['Survive'].value_counts().plot(kind = 'bar', figsize = (1, 3))\n",
    "plt.title('Overdose Survival:')\n",
    "plt.show\n",
    "plt.show(block=False)\n",
    "print(' Survived (1) and Died (0)')"
   ]
  },
  {
   "cell_type": "markdown",
   "metadata": {},
   "source": [
    "### Visualizing the suspected drug causing OD"
   ]
  },
  {
   "cell_type": "code",
   "execution_count": 74,
   "metadata": {},
   "outputs": [
    {
     "data": {
      "image/png": "[encoded data removed]",
      "text/plain": [
       "<Figure size 720x432 with 1 Axes>"
      ]
     },
     "metadata": {
      "needs_background": "light"
     },
     "output_type": "display_data"
    }
   ],
   "source": [
    "df['Susp OD Drug Desc'] = df['Susp OD Drug Desc'].str.lower()\n",
    "df['Susp OD Drug Desc'] = df['Susp OD Drug Desc'].replace(to_replace=r'benzodiazepines (i.e.valium, xanax, ativan, etc)', value='benzodiazepines')\n",
    "df['Susp OD Drug Desc'] = df['Susp OD Drug Desc'].replace(to_replace=r'buprenorphine (i.e. suboxone, sublocade, subutex, butrans, buprenex, etc)', value='buprenorphine')\n",
    "df['Susp OD Drug Desc'] = df['Susp OD Drug Desc'].replace(to_replace=r'barbiturates (i.e. amytal, nembutal, etc)', value='barbiturates')\n",
    "df['Susp OD Drug Desc'] = df['Susp OD Drug Desc'].replace(to_replace=r'fentanyl analog/other synthetic opioid', value='fentanyl')\n",
    "df['Susp OD Drug Desc'] = df['Susp OD Drug Desc'].astype('category')\n",
    "drug_types = df.groupby(['Susp OD Drug Desc']).groups.keys()\n",
    "drug_counts = df['Susp OD Drug Desc'].value_counts(sort=False)\n",
    "df_drugs = pd.DataFrame(drug_counts, drug_types)\n",
    "df_drugs = df_drugs.rename(columns={\"Susp OD Drug Desc\": \"Count\"})\n",
    "df_drugs = df_drugs.sort_values(by=\"Count\", ascending=False)\n",
    "keys = list(drug_types)\n",
    "counts = list(drug_counts)\n",
    "\n",
    "fig = plt.figure(figsize = (10, 6))\n",
    "plt.barh(keys, counts, color ='skyblue') \n",
    "  \n",
    "plt.ylabel(\"Drug Type\") \n",
    "plt.xlabel(\"Number of Incidents\") \n",
    "plt.title(\"Overdoses by Drug Type\") \n",
    "plt.show()"
   ]
  },
  {
   "cell_type": "markdown",
   "metadata": {},
   "source": [
    "### Visualzing Race Feature"
   ]
  },
  {
   "cell_type": "code",
   "execution_count": 43,
   "metadata": {},
   "outputs": [
    {
     "data": {
      "image/png": "[encoded data removed]",
      "text/plain": [
       "<Figure size 432x288 with 1 Axes>"
      ]
     },
     "metadata": {
      "needs_background": "light"
     },
     "output_type": "display_data"
    }
   ],
   "source": [
    "df['Race'].value_counts().plot(kind = 'bar', figsize = (6, 4), color=['lightcoral', 'navy', 'orange', 'maroon', 'yellow'])\n",
    "plt.xlabel(\"Race of Patient\") \n",
    "plt.ylabel(\"Number of Incidents\")\n",
    "plt.title('Overdoses by Race')\n",
    "plt.show\n",
    "plt.show(block=False)"
   ]
  },
  {
   "cell_type": "markdown",
   "metadata": {},
   "source": [
    "### Visualizing ODs by Day"
   ]
  },
  {
   "cell_type": "code",
   "execution_count": 37,
   "metadata": {},
   "outputs": [
    {
     "data": {
      "image/png": "[encoded data removed]",
      "text/plain": [
       "<Figure size 432x288 with 1 Axes>"
      ]
     },
     "metadata": {
      "needs_background": "light"
     },
     "output_type": "display_data"
    }
   ],
   "source": [
    "df['Day'].value_counts().plot(kind = 'bar', figsize = (6, 4), color=['darkmagenta', 'darkviolet', 'mediumorchid', 'orchid', 'violet', 'hotpink', 'lightpink'])\n",
    "plt.xlabel(\"Day of OD\") \n",
    "plt.ylabel(\"Number of Incidents\")\n",
    "plt.title('Overdoses by Day')\n",
    "plt.show\n",
    "plt.show(block=False)"
   ]
  },
  {
   "cell_type": "markdown",
   "metadata": {},
   "source": [
    "### Plotting the Locations"
   ]
  },
  {
   "cell_type": "code",
   "execution_count": 96,
   "metadata": {},
   "outputs": [
    {
     "data": {
      "text/plain": [
       "<matplotlib.legend.Legend at 0x7fe2df1084c0>"
      ]
     },
     "execution_count": 96,
     "metadata": {},
     "output_type": "execute_result"
    },
    {
     "data": {
      "image/png": "[encoded data removed]",
      "text/plain": [
       "<Figure size 1080x1080 with 1 Axes>"
      ]
     },
     "metadata": {
      "needs_background": "light"
     },
     "output_type": "display_data"
    },
    {
     "data": {
      "image/png": "[encoded data removed]",
      "text/plain": [
       "<Figure size 1080x1080 with 1 Axes>"
      ]
     },
     "metadata": {
      "needs_background": "light"
     },
     "output_type": "display_data"
    }
   ],
   "source": [
    "street_map = gpd.read_file('STATE_BOUNDARY.shp')\n",
    "gif,ax = plt.subplots(figsize = (15, 15))\n",
    "street_map.plot(ax = ax)\n",
    "crs = {\"init\" : \"epsg:4326\"}\n",
    "df.head()\n",
    "type(df)\n",
    "#geometry = [Point(xy) for xy in zip(df[\"Incident County Longitude\"], df[\"Incident County Latitude\"])]\n",
    "#geometry[:3]\n",
    "gdf = gpd.GeoDataFrame(\n",
    "    df, geometry=gpd.points_from_xy(df[\"Incident County Longitude\"], df[\"Incident County Latitude\"]))\n",
    "gdf.head()\n",
    "fig,ax = plt.subplots(figsize = (15,15))\n",
    "street_map.plot(ax = ax, alpha = 0.9, color = \"grey\")\n",
    "gdf[gdf['Survive'] == 0].plot(ax = ax, color = \"maroon\", marker = \"o\", label = \"Died\")\n",
    "gdf[gdf['Survive'] == 1].plot(ax = ax, color = \"cyan\", marker = \"^\", label = \"Survived\")\n",
    "plt.legend(prop={'size':10})\n"
   ]
  },
  {
   "cell_type": "markdown",
   "metadata": {},
   "source": [
    "### Visualizing Overdoses by Age"
   ]
  },
  {
   "cell_type": "code",
   "execution_count": 26,
   "metadata": {},
   "outputs": [
    {
     "data": {
      "image/png": "[encoded data removed]",
      "text/plain": [
       "<Figure size 720x360 with 1 Axes>"
      ]
     },
     "metadata": {
      "needs_background": "light"
     },
     "output_type": "display_data"
    }
   ],
   "source": [
    "#df['Age Range'].value_counts().plot(kind = 'bar', figsize = (6, 4), color=['cyan', 'lime', 'maroon', 'pink', 'green', 'blue', 'yellow', 'purple', 'red'])\n",
    "df['Age Range'] = df['Age Range'].replace(to_replace=r'\\s\\-\\s', value='-', regex=True)\n",
    "df['Age Range'] = df['Age Range'].replace(to_replace=r'14-Oct', value='0-14')\n",
    "df['Age Range'] = df['Age Range'].replace(to_replace=r'0-9', value='0-14')\n",
    "df['Age Range'] = df['Age Range'].replace(to_replace=r'70-79', value='70-99')\n",
    "df['Age Range'] = df['Age Range'].replace(to_replace=r'80-*', value='70-99')\n",
    "df['Age Range'] = df['Age Range'].astype('category')\n",
    "\n",
    "\n",
    "age_range = df.groupby(['Age Range']).groups.keys()\n",
    "age_counts = df['Age Range'].value_counts(sort=False)\n",
    "df_age = pd.DataFrame(age_counts, age_range)\n",
    "df_age = df_age.reset_index()\n",
    "df_age = df_age.rename(columns={\"Age Range\": \"Count\", \"index\": \"Age Range\"})\n",
    "\n",
    "\n",
    "keys = list(df_age['Age Range'])\n",
    "counts = list(df_age['Count'])\n",
    "\n",
    "fig = plt.figure(figsize = (10, 5))\n",
    "plt.bar(keys, counts, color=['azure', 'lightcyan', 'powderblue', 'powderblue', 'paleturquoise', 'mediumturquoise', 'lightseagreen', 'darkcyan', 'darkturquoise', 'darkslategrey']) \n",
    "  \n",
    "plt.xlabel(\"Age Range of Patient\") \n",
    "plt.ylabel(\"Number of Incidents\") \n",
    "plt.title(\"Overdoses by Age\") \n",
    "plt.show()"
   ]
  },
  {
   "cell_type": "markdown",
   "metadata": {},
   "source": [
    "### Reformating categorical features"
   ]
  },
  {
   "cell_type": "code",
   "execution_count": 11,
   "metadata": {},
   "outputs": [
    {
     "name": "stdout",
     "output_type": "stream",
     "text": [
      "<class 'pandas.core.frame.DataFrame'>\n",
      "RangeIndex: 25173 entries, 0 to 25172\n",
      "Data columns (total 11 columns):\n",
      " #   Column                     Non-Null Count  Dtype  \n",
      "---  ------                     --------------  -----  \n",
      " 0   Day                        25173 non-null  object \n",
      " 1   Gender Desc                25173 non-null  object \n",
      " 2   Age Range                  25173 non-null  object \n",
      " 3   Race                       25173 non-null  object \n",
      " 4   Ethnicity Desc             25173 non-null  object \n",
      " 5   Accidental Exposure        25173 non-null  object \n",
      " 6   Susp OD Drug Desc          25173 non-null  object \n",
      " 7   Naloxone Administered      25173 non-null  object \n",
      " 8   Survive                    25173 non-null  object \n",
      " 9   Incident County Latitude   25173 non-null  float64\n",
      " 10  Incident County Longitude  25173 non-null  float64\n",
      "dtypes: float64(2), object(9)\n",
      "memory usage: 2.1+ MB\n",
      "None\n",
      "\n",
      " Result: Many categorical values going to use label enconding to convert to integer values\n",
      "\n",
      "Saturday     4233\n",
      "Friday       4047\n",
      "Thursday     3530\n",
      "Sunday       3460\n",
      "Tuesday      3387\n",
      "Wednesday    3338\n",
      "Monday       3178\n",
      "Name: Day, dtype: int64\n",
      "2    4233\n",
      "0    4047\n",
      "4    3530\n",
      "3    3460\n",
      "5    3387\n",
      "6    3338\n",
      "1    3178\n",
      "Name: Day, dtype: int64\n"
     ]
    }
   ],
   "source": [
    "#check categorical values\n",
    "print(df.info())\n",
    "print(\"\\n Result: Many categorical values going to use label enconding to convert to integer values\\n\")\n",
    "\n",
    "print(df[\"Day\"].value_counts())\n",
    "\n",
    "labelencoder = LabelEncoder()\n",
    "\n",
    "df[\"Day\"] = labelencoder.fit_transform(df[\"Day\"])\n",
    "print(df[\"Day\"].value_counts())"
   ]
  },
  {
   "cell_type": "code",
   "execution_count": 68,
   "metadata": {},
   "outputs": [
    {
     "name": "stdout",
     "output_type": "stream",
     "text": [
      "Male       17346\n",
      "Female      7773\n",
      "Unknown       54\n",
      "Name: Gender Desc, dtype: int64\n",
      "1    17346\n",
      "0     7773\n",
      "2       54\n",
      "Name: Gender Desc, dtype: int64\n"
     ]
    }
   ],
   "source": [
    "print(df[\"Gender Desc\"].value_counts())\n",
    "df[\"Gender Desc\"] = labelencoder.fit_transform(df[\"Gender Desc\"])\n",
    "print(df[\"Gender Desc\"].value_counts())"
   ]
  },
  {
   "cell_type": "code",
   "execution_count": 12,
   "metadata": {},
   "outputs": [
    {
     "name": "stdout",
     "output_type": "stream",
     "text": [
      "30 - 39    9285\n",
      "25 - 29    5143\n",
      "40 - 49    4202\n",
      "20 - 24    2809\n",
      "50 - 59    2331\n",
      "60 - 69     731\n",
      "15 - 19     502\n",
      "70 - 99      89\n",
      "0 - 14       81\n",
      "Name: Age Range, dtype: int64\n",
      "30 - 39    9285\n",
      "25 - 29    5143\n",
      "40 - 49    4202\n",
      "20 - 24    2809\n",
      "50 - 59    2331\n",
      "60 - 69     731\n",
      "15 - 19     502\n",
      "70 - 99      89\n",
      "0 - 14       81\n",
      "Name: Age Range, dtype: int64\n",
      "4    9285\n",
      "3    5143\n",
      "5    4202\n",
      "2    2809\n",
      "6    2331\n",
      "7     731\n",
      "1     502\n",
      "8      89\n",
      "0      81\n",
      "Name: Age Range, dtype: int64\n"
     ]
    }
   ],
   "source": [
    "print(df[\"Age Range\"].value_counts())\n",
    "\n",
    "df['Age Range'] = df['Age Range'].replace(to_replace=r'14-Oct', value='0 - 14')\n",
    "df['Age Range'] = df['Age Range'].replace(to_replace=r'0 - 9', value='0 - 14')\n",
    "df['Age Range'] = df['Age Range'].replace(to_replace=r'70 - 79', value='70 - 99')\n",
    "df['Age Range'] = df['Age Range'].replace(to_replace=r'80 - *', value='70 - 99')\n",
    "\n",
    "print(df[\"Age Range\"].value_counts())\n",
    "\n",
    "df[\"Age Range\"] = labelencoder.fit_transform(df[\"Age Range\"])\n",
    "print(df[\"Age Range\"].value_counts())"
   ]
  },
  {
   "cell_type": "code",
   "execution_count": 70,
   "metadata": {},
   "outputs": [
    {
     "name": "stdout",
     "output_type": "stream",
     "text": [
      "White                                22032\n",
      "Black                                 2160\n",
      "Unknown                                884\n",
      "Asian or Pacific Islander               88\n",
      "American Indian or Alaskan Native        9\n",
      "Name: Race, dtype: int64\n",
      "4    22032\n",
      "2     2160\n",
      "3      884\n",
      "1       88\n",
      "0        9\n",
      "Name: Race, dtype: int64\n"
     ]
    }
   ],
   "source": [
    "print(df[\"Race\"].value_counts())\n",
    "df[\"Race\"] = labelencoder.fit_transform(df[\"Race\"])\n",
    "print(df[\"Race\"].value_counts())"
   ]
  },
  {
   "cell_type": "code",
   "execution_count": 71,
   "metadata": {},
   "outputs": [
    {
     "name": "stdout",
     "output_type": "stream",
     "text": [
      "Not Hispanic    21120\n",
      "Unknown          2603\n",
      "Hispanic         1423\n",
      "Mongolian          27\n",
      "Name: Ethnicity Desc, dtype: int64\n",
      "2    21120\n",
      "3     2603\n",
      "0     1423\n",
      "1       27\n",
      "Name: Ethnicity Desc, dtype: int64\n"
     ]
    }
   ],
   "source": [
    "print(df[\"Ethnicity Desc\"].value_counts())\n",
    "df[\"Ethnicity Desc\"] = labelencoder.fit_transform(df[\"Ethnicity Desc\"])\n",
    "print(df[\"Ethnicity Desc\"].value_counts())"
   ]
  },
  {
   "cell_type": "code",
   "execution_count": 72,
   "metadata": {},
   "outputs": [
    {
     "name": "stdout",
     "output_type": "stream",
     "text": [
      "N    25146\n",
      "Y       27\n",
      "Name: Accidental Exposure, dtype: int64\n",
      "0    25146\n",
      "1       27\n",
      "Name: Accidental Exposure, dtype: int64\n"
     ]
    }
   ],
   "source": [
    "print(df[\"Accidental Exposure\"].value_counts())\n",
    "df[\"Accidental Exposure\"] = labelencoder.fit_transform(df[\"Accidental Exposure\"])\n",
    "print(df[\"Accidental Exposure\"].value_counts())"
   ]
  },
  {
   "cell_type": "code",
   "execution_count": 73,
   "metadata": {},
   "outputs": [
    {
     "name": "stdout",
     "output_type": "stream",
     "text": [
      "HEROIN                                                                       12809\n",
      "FENTANYL                                                                      3811\n",
      "UNKNOWN                                                                       2560\n",
      "PHARMACEUTICAL OPIOID                                                          847\n",
      "COCAINE/CRACK                                                                  661\n",
      "FENTANYL ANALOG/OTHER SYNTHETIC OPIOID                                         604\n",
      "METHAMPHETAMINE                                                                577\n",
      "OTHER                                                                          576\n",
      "ALCOHOL                                                                        520\n",
      "PHARMACEUTICAL OTHER                                                           511\n",
      "BENZODIAZEPINES (I.E.VALIUM, XANAX, ATIVAN, ETC)                               509\n",
      "MARIJUANA                                                                      370\n",
      "SYNTHETIC MARIJUANA                                                            270\n",
      "BUPRENORPHINE (I.E. SUBOXONE, SUBLOCADE, SUBUTEX, BUTRANS, BUPRENEX, ETC)      196\n",
      "CARFENTANIL                                                                    140\n",
      "METHADONE                                                                      121\n",
      "PHARMACEUTICAL STIMULANT                                                        39\n",
      "BARBITURATES (I.E. AMYTAL, NEMBUTAL, ETC)                                       37\n",
      "BATH SALTS                                                                      15\n",
      "Name: Susp OD Drug Desc, dtype: int64\n",
      "9     12809\n",
      "7      3811\n",
      "18     2560\n",
      "14      847\n",
      "6       661\n",
      "8       604\n",
      "12      577\n",
      "13      576\n",
      "0       520\n",
      "15      511\n",
      "3       509\n",
      "10      370\n",
      "17      270\n",
      "4       196\n",
      "5       140\n",
      "11      121\n",
      "16       39\n",
      "1        37\n",
      "2        15\n",
      "Name: Susp OD Drug Desc, dtype: int64\n"
     ]
    }
   ],
   "source": [
    "print(df[\"Susp OD Drug Desc\"].value_counts())\n",
    "df[\"Susp OD Drug Desc\"] = labelencoder.fit_transform(df[\"Susp OD Drug Desc\"])\n",
    "print(df[\"Susp OD Drug Desc\"].value_counts())"
   ]
  },
  {
   "cell_type": "code",
   "execution_count": 74,
   "metadata": {},
   "outputs": [
    {
     "name": "stdout",
     "output_type": "stream",
     "text": [
      "Y    16558\n",
      "N     8615\n",
      "Name: Naloxone Administered, dtype: int64\n",
      "1    16558\n",
      "0     8615\n",
      "Name: Naloxone Administered, dtype: int64\n"
     ]
    }
   ],
   "source": [
    "print(df[\"Naloxone Administered\"].value_counts())\n",
    "df[\"Naloxone Administered\"] = labelencoder.fit_transform(df[\"Naloxone Administered\"])\n",
    "print(df[\"Naloxone Administered\"].value_counts())"
   ]
  },
  {
   "cell_type": "code",
   "execution_count": 75,
   "metadata": {},
   "outputs": [
    {
     "name": "stdout",
     "output_type": "stream",
     "text": [
      "Y    20078\n",
      "N     5095\n",
      "Name: Survive, dtype: int64\n",
      "1    20078\n",
      "0     5095\n",
      "Name: Survive, dtype: int64\n"
     ]
    }
   ],
   "source": [
    "df['Survive'] = df['Survive'].replace(to_replace=r'U', value='Y')\n",
    "print(df[\"Survive\"].value_counts())\n",
    "df[\"Survive\"] = labelencoder.fit_transform(df[\"Survive\"])\n",
    "print(df[\"Survive\"].value_counts())"
   ]
  },
  {
   "cell_type": "markdown",
   "metadata": {},
   "source": [
    "### Splitting the data into training and testing sets and normalizing features"
   ]
  },
  {
   "cell_type": "code",
   "execution_count": 80,
   "metadata": {},
   "outputs": [
    {
     "name": "stdout",
     "output_type": "stream",
     "text": [
      "train_val: 21900, test: 3273\n"
     ]
    }
   ],
   "source": [
    "X = df.drop('Survive', axis=1).values\n",
    "y = df['Survive'].values\n",
    "\n",
    "X_train_val, X_test, y_train_val, y_test = train_test_split(X, y, test_size=0.13, random_state=0)\n",
    "\n",
    "print(\"train_val: {}, test: {}\".format(X_train_val.shape[0], X_test.shape[0]))\n",
    "\n",
    "normalizer = StandardScaler()\n",
    "X_train_val = normalizer.fit_transform(X_train_val)\n",
    "X_test = normalizer.transform(X_test)"
   ]
  },
  {
   "cell_type": "code",
   "execution_count": null,
   "metadata": {},
   "outputs": [],
   "source": []
  }
 ],
 "metadata": {
  "kernelspec": {
   "display_name": "Python 3",
   "language": "python",
   "name": "python3"
  },
  "language_info": {
   "codemirror_mode": {
    "name": "ipython",
    "version": 3
   },
   "file_extension": ".py",
   "mimetype": "text/x-python",
   "name": "python",
   "nbconvert_exporter": "python",
   "pygments_lexer": "ipython3",
   "version": "3.8.5"
  }
 },
 "nbformat": 4,
 "nbformat_minor": 4
}
